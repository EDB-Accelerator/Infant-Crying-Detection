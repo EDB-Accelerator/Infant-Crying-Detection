{
 "cells": [
  {
   "cell_type": "code",
   "execution_count": null,
   "metadata": {
    "collapsed": true
   },
   "outputs": [],
   "source": [
    "from os.path import expanduser\n",
    "import glob\n",
    "import re\n",
    "import pandas as pd\n",
    "import os"
   ]
  },
  {
   "cell_type": "code",
   "execution_count": null,
   "outputs": [],
   "source": [
    "def sort_key(file):\n",
    "    match = re.findall(r'(\\d+)', file)\n",
    "    return int(match[-1]) if match else -1\n",
    "\n",
    "# Function to format time columns and print relevant information\n",
    "def printTime(df_tmp):\n",
    "    df_tmp['beginTime'] = df_tmp['Begin Time - hh:mm:ss.ms'].dt.strftime('%H:%M:%S.%f')\n",
    "    df_tmp['endTime'] = df_tmp['End Time - hh:mm:ss.ms'].dt.strftime('%H:%M:%S.%f')\n",
    "    print(df_tmp.loc[:, ['ID', 'Type', 'beginTime', 'endTime']])\n",
    "\n",
    "# Convert time to seconds for easy computation\n",
    "def time_to_seconds(t):\n",
    "    return (t.hour * 3600) + (t.minute * 60) + t.second + (t.microsecond / 1e6)"
   ],
   "metadata": {
    "collapsed": false
   }
  },
  {
   "cell_type": "code",
   "execution_count": null,
   "outputs": [],
   "source": [
    "# Specified output folder\n",
    "outFolder = os.path.join(home, \"../data/sound \")\n",
    "\n",
    "# Read the CSV file\n",
    "data_split_df = pd.read_csv('split/deBarBaro_split.csv')\n",
    "data_split_df.columns = ['ID','None','Cry','Split']\n",
    "\n",
    "# Split the IDs based on the 'Group' column\n",
    "train_IDs = data_split_df[data_split_df['Split'] == 'train']['ID'].tolist()\n",
    "validation_IDs = data_split_df[data_split_df['Split'] == 'validation']['ID'].tolist()\n",
    "test_IDs = data_split_df[data_split_df['Split']== 'test']['ID'].tolist()\n",
    "\n",
    "# Part #1: Read Train Dataset (debarbaro) (only train)\n",
    "train_annotation_files_debarbaro,train_audio_files_debarbaro = [],[]\n",
    "validation_annotation_files_debarbaro,validation_audio_files_debarbaro = [],[]\n",
    "\n",
    "for ID in train_IDs or ID in test_IDs:\n",
    "    train_annotation_files_debarbaro += glob.glob(f\"..//data/deBarbaroCry/kyunghun-10min-label/{ID}/*.csv\")\n",
    "    train_audio_files_debarbaro += glob.glob(f\"../data/deBarbaroCry/kyunghun-10min-data/{ID}/*.wav\")\n",
    "for ID in validation_IDs:\n",
    "    validation_annotation_files_debarbaro += glob.glob(home + f\"/data/deBarbaroCry/kyunghun-10min-label/{ID}/*.csv\")\n",
    "    validation_audio_files_debarbaro += glob.glob(home + f\"/data/deBarbaroCry/kyunghun-10min-data/{ID}/*.wav\")\n",
    "\n",
    "train_annotation_files_debarbaro.sort()\n",
    "train_audio_files_debarbaro.sort()\n",
    "validation_annotation_files_debarbaro.sort()\n",
    "validation_audio_files_debarbaro.sort()\n",
    "\n",
    "# Part#3: Retrain\n",
    "alex_model_path = '.trained/train_alex_kyunghun_debarbaro_all_lena.h5'\n",
    "svm_model_path = '.trained/svm-02.joblib'\n",
    "import sys\n",
    "sys.path.append('./src')\n",
    "from train_alex import train_alex\n",
    "from train_svm import train_svm\n",
    "\n",
    "goRetraining = True\n",
    "if goRetraining:\n",
    "    C = 10000\n",
    "    svm_model_path = f'.trained/svm-02_C_{C}.joblib'\n",
    "    train_svm(train_audio_files_debarbaro,train_annotation_files_debarbaro,alex_model_path,svm_model_path,Cvalue=C)\n"
   ],
   "metadata": {
    "collapsed": false
   }
  }
 ],
 "metadata": {
  "kernelspec": {
   "display_name": "Python 3",
   "language": "python",
   "name": "python3"
  },
  "language_info": {
   "codemirror_mode": {
    "name": "ipython",
    "version": 2
   },
   "file_extension": ".py",
   "mimetype": "text/x-python",
   "name": "python",
   "nbconvert_exporter": "python",
   "pygments_lexer": "ipython2",
   "version": "2.7.6"
  }
 },
 "nbformat": 4,
 "nbformat_minor": 0
}
